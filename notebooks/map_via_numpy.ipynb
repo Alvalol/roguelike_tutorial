{
 "cells": [
  {
   "cell_type": "code",
   "execution_count": 502,
   "metadata": {},
   "outputs": [],
   "source": [
    "import tcod.map\n",
    "import numpy as np\n",
    "import matplotlib.pyplot as plt\n",
    "import skimage.draw\n",
    "import random"
   ]
  },
  {
   "cell_type": "code",
   "execution_count": 503,
   "metadata": {},
   "outputs": [],
   "source": [
    "class Shape:\n",
    "    def __init__(self, x, y, w, h):\n",
    "        self.x1 = x\n",
    "        self.y1 = y\n",
    "        self.x2 = x + w\n",
    "        self.y2 = y + h\n",
    "        self.rr = None\n",
    "        self.cc = None\n",
    "    \n",
    "    def center(self):\n",
    "        center_x = int(np.median(self.cc))\n",
    "        center_y = int(np.median(self.rr))\n",
    "        return center_x, center_y\n",
    "\n",
    "    \n",
    "    def intersect(self, other):\n",
    "        return (\n",
    "            self.x1 <= other.x2 and\n",
    "            self.x2 >= other.x1 and\n",
    "            self.y1 <= (other.y2 + 2) and\n",
    "            self.y2 >= (other.y1 - 2)\n",
    "        )\n",
    "\n",
    "    def create_floor(self, game_map):\n",
    "        game_map.walkable[self.rr, self.cc] = True\n",
    "        game_map.transparent[self.rr, self.cc] = True\n",
    "\n",
    "\n",
    "class Rect(Shape):\n",
    "    def __init__(self, x, y, w, h):\n",
    "        super().__init__(x, y, w, h)\n",
    "        self.rr, self.cc = skimage.draw.polygon(\n",
    "            r=[y, y + h, y + h, y],\n",
    "            c=[x, x, x + w, x + w]\n",
    "        )\n",
    "\n",
    "\n",
    "class Ellipse(Shape):\n",
    "    def __init__(self, x, y, w, h):\n",
    "        super().__init__(x, y, w, h)\n",
    "        self.rr, self.cc = skimage.draw.ellipse(\n",
    "            r=int(y+h/2),\n",
    "            c=int(x+w/2),\n",
    "            r_radius=int(h/2),\n",
    "            c_radius=int(w/2),\n",
    "            rotation=random.randint(0, 360)\n",
    "        )\n",
    "\n",
    "        \n",
    "class Irregular(Shape):\n",
    "    def __init__(self, x, y, w, h, map_width=80, map_height=40, is_rect=True):\n",
    "        super().__init__(x, y, w, h)\n",
    "        self.rr, self.cc = self._draw_iregular_shape(w, h, map_width, map_height, is_rect)\n",
    "        \n",
    "    def _draw_iregular_shape(self, w, h, map_width, map_height, is_rect):\n",
    "        while True:\n",
    "            angle = np.linspace(0, 2 * np.pi, 50)\n",
    "\n",
    "            # circle coordinates\n",
    "            r_circle = np.sqrt((w/2)**2 + (h/2)**2)\n",
    "            x = np.round(np.cos(angle)*r_circle, 2)\n",
    "            y = np.round(np.sin(angle)*r_circle, 2)\n",
    "\n",
    "            # rectangle coordinates\n",
    "            if is_rect:\n",
    "                x[x > w/2] = w/2\n",
    "                x[x < -w/2] = -w/2\n",
    "                y[y > h/2] = h/2\n",
    "                y[y < -h/2] = -h/2\n",
    "\n",
    "            # noise for x coordinate\n",
    "            noise1 = tcod.noise.Noise(\n",
    "                dimensions=1,\n",
    "                algorithm=tcod.NOISE_SIMPLEX,\n",
    "                implementation=tcod.noise.FBM,\n",
    "                hurst=0.5,\n",
    "                lacunarity=2,\n",
    "                octaves=4,\n",
    "            )\n",
    "\n",
    "            # noise for y coordinate\n",
    "            noise2 = tcod.noise.Noise(\n",
    "                dimensions=1,\n",
    "                algorithm=tcod.NOISE_SIMPLEX,\n",
    "                implementation=tcod.noise.FBM,\n",
    "                hurst=0.5,\n",
    "                lacunarity=2,\n",
    "                octaves=4,\n",
    "            )\n",
    "\n",
    "            # Return the sampled noise from the grid of points.\n",
    "            xn = noise1.sample_ogrid([angle])\n",
    "            yn = noise2.sample_ogrid([angle])\n",
    "\n",
    "            # start and end return to zero\n",
    "            xn[:20] = xn[:20] * np.arange(0, 1, 0.05)\n",
    "            xn[-20:] = xn[-20:] * np.arange(1, 0, -0.05)\n",
    "            yn[:20] = yn[:20] * np.arange(0, 1, 0.05)\n",
    "            yn[-20:] = yn[-20:] * np.arange(1, 0, -0.05)\n",
    "\n",
    "            # add noise \n",
    "            x = x + x * xn\n",
    "            y = y + y * yn\n",
    "\n",
    "            # move origin point\n",
    "            x = self.x1 + x - min(x) #+ 3\n",
    "            y = self.y1 + y - min(y) #+ 4\n",
    "\n",
    "            # update width, height\n",
    "            self.x2 = int(self.x1 + max(x) - min(x)) \n",
    "            self.y2 = int(self.y1 + max(y) - min(y)) \n",
    "\n",
    "            # move room back in bound\n",
    "            if self.x2 >= map_width-1:\n",
    "                diff = int(self.x2 - map_width) + 2\n",
    "                x -= diff\n",
    "                self.x1 -= diff\n",
    "                self.x2 -= diff\n",
    "\n",
    "            if self.y2 >= map_height-1:\n",
    "                diff = int(self.y2 -map_height) + 2\n",
    "                y -= diff\n",
    "                self.y1 -= diff\n",
    "                self.y2 -= diff\n",
    "\n",
    "            if self.x1 <= 0:\n",
    "                diff = -self.x1 + 2\n",
    "                x += diff\n",
    "                self.x1 += diff\n",
    "                self.x2 += diff\n",
    "\n",
    "            if self.y1 <= 0:\n",
    "                diff = -self.y1 + 2\n",
    "                y += diff\n",
    "                self.y1 += diff\n",
    "                self.y2 += diff\n",
    "            \n",
    "            # there's a bug somewhere... Make sure its definitely in bound \n",
    "            if self.x1>0 or self.x2>0 or self.y2<map_height or self.x2<map_width:\n",
    "                return skimage.draw.polygon(y, x)\n",
    "\n",
    "                \n",
    "            \n",
    "        "
   ]
  },
  {
   "cell_type": "code",
   "execution_count": 504,
   "metadata": {},
   "outputs": [],
   "source": [
    "def create_h_tunnel(game_map, x1, x2, y):\n",
    "    game_map.walkable[y, min(x1, x2):max(x1, x2) + 1] = True\n",
    "    game_map.transparent[y, min(x1, x2):max(x1, x2) + 1] = True\n",
    "\n",
    "\n",
    "def create_v_tunnel(game_map, y1, y2, x):\n",
    "    game_map.walkable[min(y1, y2):max(y1, y2) + 1, x] = True\n",
    "    game_map.transparent[min(y1, y2):max(y1, y2) + 1, x] = True\n",
    "    \n",
    "\n",
    "def create_d_tunnel(game_map, x1, y1, x2, y2):\n",
    "    x_offset, y_offset = 0, 0\n",
    "    x_diff = max(x2, x1) - min(x2, x1)\n",
    "    y_diff = max(y2, y1) - min(y2, y1)\n",
    "    if  x_diff > y_diff:\n",
    "        x_offset = 1\n",
    "    else:\n",
    "        y_offset = 1\n",
    "\n",
    "    rr1, cc1 = skimage.draw.line(y1, x1, y2, x2)\n",
    "    rr2, cc2 = skimage.draw.line(y1 + y_offset , x1+x_offset, y2 + y_offset, x2+x_offset)\n",
    "    game_map.walkable[rr1, cc1] = True\n",
    "    game_map.walkable[rr2, cc2] = True\n",
    "    game_map.transparent[rr1, cc1] = True\n",
    "    game_map.transparent[rr2, cc2] = True\n",
    "    \n",
    "\n",
    "    "
   ]
  },
  {
   "cell_type": "code",
   "execution_count": 505,
   "metadata": {
    "scrolled": false
   },
   "outputs": [],
   "source": [
    "class Level:\n",
    "    def __init__(self, max_rooms, room_min_size, room_max_size, map_width, map_height):\n",
    "        self.m = tcod.map.Map(width=80, height=45)\n",
    "        self.max_rooms = max_rooms\n",
    "        self.room_min_size = room_min_size\n",
    "        self.room_max_size = room_max_size\n",
    "        self.map_width = map_width\n",
    "        self.map_height = map_height\n",
    "        self.rooms = []\n",
    "    \n",
    "    def _gen_room(self):\n",
    "        while True:\n",
    "            w = random.randint(self.room_min_size, self.room_max_size)\n",
    "            h = random.randint(self.room_min_size, self.room_max_size)\n",
    "            x = random.randint(1, self.map_width - w - 1)\n",
    "            y = random.randint(1, self.map_height - h - 1)\n",
    "            \n",
    "\n",
    "            room_type = random.random()\n",
    "            \n",
    "            if room_type < 0.6:\n",
    "                room = Irregular(x, y, min(w, 9) , min(h, 7), self.map_width, self.map_height,  is_rect=True)\n",
    "            elif room_type < 0.95:\n",
    "                room = Irregular(x, y, min(w, 7) , min(h, 5), self.map_width, self.map_height,  is_rect=False)\n",
    "            elif room_type < 0.99:\n",
    "                room = Ellipse(x, y, w, h)\n",
    "            else:\n",
    "                room = Rect(x, y, w, h)\n",
    "            for r in self.rooms:\n",
    "                if room.intersect(r):\n",
    "                    break\n",
    "            else:\n",
    "                self.rooms.append(room)\n",
    "                break\n",
    "            \n",
    "        room.create_floor(self.m)\n",
    "\n",
    "    def _gen_corridor(self):\n",
    "        new_x, new_y = self.rooms[-1].center()\n",
    "        prev_x, prev_y = self.rooms[-2].center()\n",
    "        \n",
    "        corridor_type = random.random()\n",
    " \n",
    "        if corridor_type < 0.425:\n",
    "            create_h_tunnel(self.m, prev_x, new_x, prev_y)\n",
    "            create_v_tunnel(self.m, prev_y, new_y, new_x)\n",
    "        elif corridor_type >= 0.425 and corridor_type < 0.85:\n",
    "            create_v_tunnel(self.m, prev_y, new_y, prev_x)\n",
    "            create_h_tunnel(self.m, prev_x, new_x, new_y)\n",
    "        else:\n",
    "            create_d_tunnel(self.m, prev_x, prev_y, new_x, new_y)\n",
    "\n",
    "    def make_map(self):\n",
    "        for r in range(self.max_rooms):\n",
    "            self._gen_room()\n",
    "            if len(self.rooms) > 1:\n",
    "                self._gen_corridor()\n",
    "            \n"
   ]
  },
  {
   "cell_type": "code",
   "execution_count": 506,
   "metadata": {
    "scrolled": false
   },
   "outputs": [
    {
     "data": {
      "image/png": "[encoded data removed]",
      "text/plain": [
       "<matplotlib.figure.Figure at 0xc977c50>"
      ]
     },
     "metadata": {},
     "output_type": "display_data"
    },
    {
     "data": {
      "image/png": "[encoded data removed]",
      "text/plain": [
       "<matplotlib.figure.Figure at 0xc821a90>"
      ]
     },
     "metadata": {},
     "output_type": "display_data"
    },
    {
     "data": {
      "image/png": "[encoded data removed]",
      "text/plain": [
       "<matplotlib.figure.Figure at 0xc5c40f0>"
      ]
     },
     "metadata": {},
     "output_type": "display_data"
    },
    {
     "data": {
      "image/png": "[encoded data removed]",
      "text/plain": [
       "<matplotlib.figure.Figure at 0xc441090>"
      ]
     },
     "metadata": {},
     "output_type": "display_data"
    },
    {
     "data": {
      "image/png": "[encoded data removed]",
      "text/plain": [
       "<matplotlib.figure.Figure at 0xcd1e190>"
      ]
     },
     "metadata": {},
     "output_type": "display_data"
    },
    {
     "data": {
      "image/png": "[encoded data removed]",
      "text/plain": [
       "<matplotlib.figure.Figure at 0xc8603b0>"
      ]
     },
     "metadata": {},
     "output_type": "display_data"
    },
    {
     "data": {
      "image/png": "[encoded data removed]",
      "text/plain": [
       "<matplotlib.figure.Figure at 0xc59ab70>"
      ]
     },
     "metadata": {},
     "output_type": "display_data"
    },
    {
     "data": {
      "image/png": "[encoded data removed]",
      "text/plain": [
       "<matplotlib.figure.Figure at 0xc9474f0>"
      ]
     },
     "metadata": {},
     "output_type": "display_data"
    },
    {
     "data": {
      "image/png": "[encoded data removed]",
      "text/plain": [
       "<matplotlib.figure.Figure at 0xc4878f0>"
      ]
     },
     "metadata": {},
     "output_type": "display_data"
    },
    {
     "data": {
      "image/png": "[encoded data removed]",
      "text/plain": [
       "<matplotlib.figure.Figure at 0xc599830>"
      ]
     },
     "metadata": {},
     "output_type": "display_data"
    }
   ],
   "source": [
    "def show_map(level):\n",
    "    plt.figure(figsize=(10,5))\n",
    "    plt.imshow(\n",
    "        level.m.walkable,\n",
    "        cmap=plt.cm.Accent_r,\n",
    "        interpolation='nearest'\n",
    "    )\n",
    "    plt.xticks([]),plt.yticks([])\n",
    "    plt.show()\n",
    "\n",
    "for _ in range(10):\n",
    "    lvl = Level(12, 4, 10, 80, 45)\n",
    "    lvl.make_map()\n",
    "    show_map(lvl)"
   ]
  },
  {
   "cell_type": "code",
   "execution_count": null,
   "metadata": {},
   "outputs": [],
   "source": []
  },
  {
   "cell_type": "code",
   "execution_count": null,
   "metadata": {},
   "outputs": [],
   "source": []
  },
  {
   "cell_type": "code",
   "execution_count": null,
   "metadata": {},
   "outputs": [],
   "source": []
  },
  {
   "cell_type": "code",
   "execution_count": null,
   "metadata": {},
   "outputs": [],
   "source": []
  },
  {
   "cell_type": "code",
   "execution_count": null,
   "metadata": {},
   "outputs": [],
   "source": []
  },
  {
   "cell_type": "code",
   "execution_count": null,
   "metadata": {},
   "outputs": [],
   "source": []
  }
 ],
 "metadata": {
  "kernelspec": {
   "display_name": "Python [default]",
   "language": "python",
   "name": "python3"
  },
  "language_info": {
   "codemirror_mode": {
    "name": "ipython",
    "version": 3
   },
   "file_extension": ".py",
   "mimetype": "text/x-python",
   "name": "python",
   "nbconvert_exporter": "python",
   "pygments_lexer": "ipython3",
   "version": "3.6.5"
  }
 },
 "nbformat": 4,
 "nbformat_minor": 2
}
