{
 "cells": [
  {
   "cell_type": "code",
   "execution_count": 360,
   "metadata": {},
   "outputs": [],
   "source": [
    "import tcod.map\n",
    "import numpy as np\n",
    "import matplotlib.pyplot as plt\n",
    "import skimage.draw\n",
    "import random"
   ]
  },
  {
   "cell_type": "markdown",
   "metadata": {},
   "source": [
    "### Blueprint"
   ]
  },
  {
   "cell_type": "markdown",
   "metadata": {},
   "source": [
    "blueprint is a 2D walkable array. Its sized is slightly larger than the game_map, with padded rows and columns (2 on all four sides). The paddings are used to create wall masks by moving the array in all cardinal/intermediate directions, and combining theses 8 boolean arrays. 2 rows/columns are need to create the 3d effect of the walls."
   ]
  },
  {
   "cell_type": "code",
   "execution_count": 361,
   "metadata": {},
   "outputs": [],
   "source": [
    "MAP_WIDTH = 80\n",
    "MAP_HEIGHT = 43\n",
    "blueprint = np.zeros((MAP_HEIGHT + 4, MAP_WIDTH + 4), dtype=np.bool_)"
   ]
  },
  {
   "cell_type": "markdown",
   "metadata": {},
   "source": [
    "### Room Prefab"
   ]
  },
  {
   "cell_type": "markdown",
   "metadata": {},
   "source": [
    "prefab.py contain rooms that defines it's walkable areas. Built on top of skimage.draw functions, it can:\n",
    "- find it's centre\n",
    "- return `True` if it intercept with another room\n",
    "- draw shapes on the blueprint array. \n",
    "\n",
    "Also contains horizontal, vertical & diagonal tunnels which connect 2 rooms together."
   ]
  },
  {
   "cell_type": "markdown",
   "metadata": {},
   "source": [
    "#### 1. Base Class"
   ]
  },
  {
   "cell_type": "code",
   "execution_count": 362,
   "metadata": {},
   "outputs": [],
   "source": [
    "## just need to define rr, cc walkable coordinates\n",
    "\n",
    "class Room:\n",
    "    def __init__(self, x, y, w, h):\n",
    "        self.x1 = x\n",
    "        self.y1 = y\n",
    "        self.x2 = x + w\n",
    "        self.y2 = y + h\n",
    "        self.rr = None\n",
    "        self.cc = None\n",
    "    \n",
    "    def center(self):\n",
    "        cx = int(np.median(self.cc))\n",
    "        cy = int(np.median(self.rr))\n",
    "        return cy, cx,\n",
    "\n",
    "    def intersect(self, other):\n",
    "        return (\n",
    "            self.x1 <= other.x2 and\n",
    "            self.x2 >= other.x1 and\n",
    "            self.y1 <= (other.y2 + 2) and\n",
    "            self.y2 >= (other.y1 - 2)\n",
    "        )\n",
    "\n",
    "    def draw(self, array):\n",
    "        array[self.rr, self.cc] = True"
   ]
  },
  {
   "cell_type": "markdown",
   "metadata": {},
   "source": [
    "#### 2. Rectanglular Room"
   ]
  },
  {
   "cell_type": "code",
   "execution_count": 363,
   "metadata": {},
   "outputs": [],
   "source": [
    "class Rect(Room):\n",
    "    def __init__(self, x, y, w, h):\n",
    "        super().__init__(x, y, w, h)\n",
    "\n",
    "        self.rr, self.cc = skimage.draw.polygon(\n",
    "            r=[y, y + h, y + h, y],\n",
    "            c=[x, x, x + w, x + w]\n",
    "        )"
   ]
  },
  {
   "cell_type": "code",
   "execution_count": 364,
   "metadata": {},
   "outputs": [],
   "source": [
    "def show(array):\n",
    "    \"\"\"helper function, visualize the array\"\"\"\n",
    "    plt.figure(figsize=(3,3))\n",
    "    plt.imshow(\n",
    "        array,\n",
    "        cmap=plt.cm.Accent_r,\n",
    "        interpolation='nearest'\n",
    "    )\n",
    "    plt.xticks([]),plt.yticks([])\n",
    "    plt.show()"
   ]
  },
  {
   "cell_type": "code",
   "execution_count": 365,
   "metadata": {},
   "outputs": [
    {
     "data": {
      "image/png": "[encoded data removed]",
      "text/plain": [
       "<Figure size 216x216 with 1 Axes>"
      ]
     },
     "metadata": {},
     "output_type": "display_data"
    }
   ],
   "source": [
    "w = random.randint(4, 10)\n",
    "h = random.randint(4, 10)\n",
    "x = random.randint(1, 20 - w - 1)\n",
    "y = random.randint(1, 20 - h - 1)\n",
    "\n",
    "array = np.zeros((20, 20), dtype=np.bool_)\n",
    "room = Rect(x,y,w,h)\n",
    "room.draw(array)\n",
    "\n",
    "cy, cx = room.center()\n",
    "array[cy, cx] = False\n",
    "show(array)"
   ]
  },
  {
   "cell_type": "markdown",
   "metadata": {},
   "source": [
    "#### 3. Circular Room"
   ]
  },
  {
   "cell_type": "code",
   "execution_count": 366,
   "metadata": {},
   "outputs": [],
   "source": [
    "class Ellipse(Room):\n",
    "    def __init__(self, x, y, w, h):\n",
    "        super().__init__(x, y, w, h)\n",
    "        self.rr, self.cc = skimage.draw.ellipse(\n",
    "            r=int(y+h/2),\n",
    "            c=int(x+w/2),\n",
    "            r_radius=int(h/2),\n",
    "            c_radius=int(w/2),\n",
    "            rotation=random.randint(0, 360)\n",
    "        )"
   ]
  },
  {
   "cell_type": "code",
   "execution_count": 367,
   "metadata": {},
   "outputs": [
    {
     "data": {
      "image/png": "[encoded data removed]",
      "text/plain": [
       "<Figure size 216x216 with 1 Axes>"
      ]
     },
     "metadata": {},
     "output_type": "display_data"
    }
   ],
   "source": [
    "w = random.randint(4, 8)\n",
    "h = random.randint(4, 8)\n",
    "x = random.randint(1, 20 - w - 1)\n",
    "y = random.randint(1, 20 - h - 1)\n",
    "\n",
    "array = np.zeros((20, 20), dtype=np.bool_)\n",
    "room = Ellipse(x,y,w,h)\n",
    "room.draw(array)\n",
    "\n",
    "cy, cx = room.center()\n",
    "array[cy, cx] = False\n",
    "show(array)"
   ]
  },
  {
   "cell_type": "markdown",
   "metadata": {},
   "source": [
    "#### 4. Irregular Shaped Room"
   ]
  },
  {
   "cell_type": "code",
   "execution_count": 368,
   "metadata": {},
   "outputs": [],
   "source": [
    "class Irregular(Room):\n",
    "    def __init__(self, x, y, w, h, map_width=80, map_height=40, is_rect=True):\n",
    "        super().__init__(x, y, w, h)\n",
    "        self.rr, self.cc = self._coordinates(w, h, map_width, map_height, is_rect)\n",
    "        \n",
    "    def _coordinates(self, w, h, map_width, map_height, is_rect):\n",
    "        while True:\n",
    "            \n",
    "            angle = np.linspace(0, 2 * np.pi, 50)\n",
    "            r_circle = np.sqrt((w/2)**2 + (h/2)**2)\n",
    "            \n",
    "            # different x, y here\n",
    "            # represent the circle coordinates\n",
    "            x = np.round(np.cos(angle)*r_circle, 2)\n",
    "            y = np.round(np.sin(angle)*r_circle, 2)\n",
    "\n",
    "            # rectangle coordinates\n",
    "            if is_rect:\n",
    "                x[x > w/2] = w/2\n",
    "                x[x < -w/2] = -w/2\n",
    "                y[y > h/2] = h/2\n",
    "                y[y < -h/2] = -h/2\n",
    "\n",
    "            # noise for x coordinate\n",
    "            noise1 = tcod.noise.Noise(\n",
    "                dimensions=1,\n",
    "                algorithm=tcod.NOISE_SIMPLEX,\n",
    "                implementation=tcod.noise.FBM,\n",
    "                hurst=0.5,\n",
    "                lacunarity=2,\n",
    "                octaves=4,\n",
    "            )\n",
    "\n",
    "            # noise for y coordinate\n",
    "            noise2 = tcod.noise.Noise(\n",
    "                dimensions=1,\n",
    "                algorithm=tcod.NOISE_SIMPLEX,\n",
    "                implementation=tcod.noise.FBM,\n",
    "                hurst=0.5,\n",
    "                lacunarity=2,\n",
    "                octaves=4,\n",
    "            )\n",
    "\n",
    "            # Return the sampled noise from the grid of points.\n",
    "            xn = noise1.sample_ogrid([angle])\n",
    "            yn = noise2.sample_ogrid([angle])\n",
    "\n",
    "            # start and end return to zero\n",
    "            xn[:20] = xn[:20] * np.arange(0, 1, 0.05)\n",
    "            xn[-20:] = xn[-20:] * np.arange(1, 0, -0.05)\n",
    "            yn[:20] = yn[:20] * np.arange(0, 1, 0.05)\n",
    "            yn[-20:] = yn[-20:] * np.arange(1, 0, -0.05)\n",
    "\n",
    "            # add noise \n",
    "            x = x + x * xn\n",
    "            y = y + y * yn\n",
    "\n",
    "            # move origin point\n",
    "            x = self.x1 + x - min(x) #+ 3\n",
    "            y = self.y1 + y - min(y) #+ 4\n",
    "\n",
    "            # update width, height\n",
    "            self.x2 = int(self.x1 + max(x) - min(x)) \n",
    "            self.y2 = int(self.y1 + max(y) - min(y)) \n",
    "\n",
    "            # move room back in bound\n",
    "            if self.x2 >= map_width-1:\n",
    "                diff = int(self.x2 - map_width) + 2\n",
    "                x -= diff\n",
    "                self.x1 -= diff\n",
    "                self.x2 -= diff\n",
    "\n",
    "            if self.y2 >= map_height-1:\n",
    "                diff = int(self.y2 -map_height) + 2\n",
    "                y -= diff\n",
    "                self.y1 -= diff\n",
    "                self.y2 -= diff\n",
    "\n",
    "            if self.x1 <= 0:\n",
    "                diff = -self.x1 + 2\n",
    "                x += diff\n",
    "                self.x1 += diff\n",
    "                self.x2 += diff\n",
    "\n",
    "            if self.y1 <= 0:\n",
    "                diff = -self.y1 + 2\n",
    "                y += diff\n",
    "                self.y1 += diff\n",
    "                self.y2 += diff\n",
    "            \n",
    "            # there's a bug somewhere... Make sure its definitely in bound \n",
    "            if self.x1>0 or self.x2>0 or self.y2<map_height or self.x2<map_width:\n",
    "                return skimage.draw.polygon(y, x)\n"
   ]
  },
  {
   "cell_type": "markdown",
   "metadata": {},
   "source": [
    "#### 4a. Irregular Rectangular Room"
   ]
  },
  {
   "cell_type": "code",
   "execution_count": 369,
   "metadata": {},
   "outputs": [
    {
     "data": {
      "image/png": "[encoded data removed]",
      "text/plain": [
       "<Figure size 216x216 with 1 Axes>"
      ]
     },
     "metadata": {},
     "output_type": "display_data"
    }
   ],
   "source": [
    "map_width = 20\n",
    "map_height = 20\n",
    "\n",
    "w = random.randint(4, 9)\n",
    "h = random.randint(4, 7)\n",
    "x = random.randint(1, map_width - w - 1)\n",
    "y = random.randint(1, map_height - h - 1)\n",
    "\n",
    "array = np.zeros((map_height, map_width), dtype=np.bool_)\n",
    "room = Irregular(x,y,w,h, map_width, map_height, is_rect=True)\n",
    "room.draw(array)\n",
    "\n",
    "cy, cx = room.center()\n",
    "array[cy, cx] = False\n",
    "show(array)"
   ]
  },
  {
   "cell_type": "markdown",
   "metadata": {},
   "source": [
    "#### 4b. Irregular Circular Room"
   ]
  },
  {
   "cell_type": "code",
   "execution_count": 370,
   "metadata": {},
   "outputs": [
    {
     "data": {
      "image/png": "[encoded data removed]",
      "text/plain": [
       "<Figure size 216x216 with 1 Axes>"
      ]
     },
     "metadata": {},
     "output_type": "display_data"
    }
   ],
   "source": [
    "map_width = 20\n",
    "map_height = 20\n",
    "\n",
    "r = random.randint(3, 6)\n",
    "\n",
    "x = random.randint(1, map_width - w - 1)\n",
    "y = random.randint(1, map_height - h - 1)\n",
    "\n",
    "array = np.zeros((map_height, map_width), dtype=np.bool_)\n",
    "room = Irregular(x,y,r,r, map_width, map_height, is_rect=False)\n",
    "room.draw(array)\n",
    "\n",
    "cy, cx = room.center()\n",
    "array[cy, cx] = False\n",
    "show(array)"
   ]
  },
  {
   "cell_type": "markdown",
   "metadata": {},
   "source": [
    "#### 5. Horizontal and Vertical Tunnel"
   ]
  },
  {
   "cell_type": "code",
   "execution_count": 371,
   "metadata": {},
   "outputs": [],
   "source": [
    "def draw_horizontal_tunnel(array, x1, x2, y):\n",
    "    array[y, min(x1, x2):max(x1, x2) + 1] = True\n",
    "\n",
    "\n",
    "def create_vertical_tunnel(array, y1, y2, x):\n",
    "    array[min(y1, y2):max(y1, y2) + 1, x] = True\n",
    "    "
   ]
  },
  {
   "cell_type": "code",
   "execution_count": 372,
   "metadata": {},
   "outputs": [
    {
     "data": {
      "image/png": "[encoded data removed]",
      "text/plain": [
       "<Figure size 216x216 with 1 Axes>"
      ]
     },
     "metadata": {},
     "output_type": "display_data"
    }
   ],
   "source": [
    "map_width = 20\n",
    "map_height = 20\n",
    "\n",
    "prev_x = random.randint(1, map_width - 1)\n",
    "new_x =  random.randint(1, map_width - 1)\n",
    "prev_y = random.randint(1, map_height - 1)\n",
    "new_y = random.randint(1, map_height - 1)\n",
    "\n",
    "array = np.zeros((map_height, map_width), dtype=np.bool_)\n",
    "draw_horizontal_tunnel(array, prev_x, new_x, prev_y)\n",
    "create_vertical_tunnel(array, prev_y, new_y, new_x)\n",
    "\n",
    "show(array)"
   ]
  },
  {
   "cell_type": "markdown",
   "metadata": {},
   "source": [
    "#### 6. Diagonal Tunnel"
   ]
  },
  {
   "cell_type": "code",
   "execution_count": 373,
   "metadata": {},
   "outputs": [],
   "source": [
    "def draw_diagonal_tunnel(array, x1, y1, x2, y2):\n",
    "    x_offset, y_offset = 0, 0\n",
    "    x_diff = max(x2, x1) - min(x2, x1)\n",
    "    y_diff = max(y2, y1) - min(y2, y1)\n",
    "    if  x_diff > y_diff:\n",
    "        x_offset = 1\n",
    "    else:\n",
    "        y_offset = 1\n",
    "\n",
    "    rr1, cc1 = skimage.draw.line(y1, x1, y2, x2)\n",
    "    rr2, cc2 = skimage.draw.line(y1 + y_offset , x1+x_offset, y2 + y_offset, x2+x_offset)\n",
    "    array[rr1, cc1] = True\n",
    "    array[rr2, cc2] = True"
   ]
  },
  {
   "cell_type": "code",
   "execution_count": 374,
   "metadata": {},
   "outputs": [
    {
     "data": {
      "image/png": "[encoded data removed]",
      "text/plain": [
       "<Figure size 216x216 with 1 Axes>"
      ]
     },
     "metadata": {},
     "output_type": "display_data"
    }
   ],
   "source": [
    "# there is small chance that the line is drawn out of bound, resulting in an error\n",
    "\n",
    "map_width = 20\n",
    "map_height = 20\n",
    "\n",
    "prev_x = random.randint(1, map_width - 1)\n",
    "new_x =  random.randint(1, map_width - 1)\n",
    "prev_y = random.randint(1, map_height - 1)\n",
    "new_y = random.randint(1, map_height - 1)\n",
    "\n",
    "try:\n",
    "    array = np.zeros((map_height, map_width), dtype=np.bool_)\n",
    "    draw_diagonal_tunnel(array, prev_y,prev_x, new_y, new_y)\n",
    "    show(array)\n",
    "except:\n",
    "    pass"
   ]
  },
  {
   "cell_type": "markdown",
   "metadata": {},
   "source": [
    "### Generation"
   ]
  },
  {
   "cell_type": "markdown",
   "metadata": {},
   "source": [
    "Randomly place the room on the blueprint and connect them with tunnels."
   ]
  },
  {
   "cell_type": "code",
   "execution_count": 375,
   "metadata": {},
   "outputs": [
    {
     "data": {
      "text/plain": [
       "(84, 58)"
      ]
     },
     "execution_count": 375,
     "metadata": {},
     "output_type": "execute_result"
    }
   ],
   "source": [
    "b = np.zeros((80 + 4, 54 + 4), dtype=np.bool_)\n",
    "b.shape"
   ]
  },
  {
   "cell_type": "code",
   "execution_count": 376,
   "metadata": {},
   "outputs": [
    {
     "data": {
      "text/plain": [
       "(80, 54)"
      ]
     },
     "execution_count": 376,
     "metadata": {},
     "output_type": "execute_result"
    }
   ],
   "source": [
    "b[2:-2, 2:-2].shape"
   ]
  },
  {
   "cell_type": "code",
   "execution_count": 377,
   "metadata": {},
   "outputs": [],
   "source": [
    "class Level:\n",
    "    def __init__(self, max_rooms, room_min_size, room_max_size, map_width, map_height):\n",
    "        self.blueprint = np.zeros((map_height + 5, map_width + 5), dtype=np.bool_)\n",
    "        self.blueprint_cropped = self.blueprint[2:-2, 2:-3]\n",
    "        self.max_rooms = max_rooms\n",
    "        self.room_min_size = room_min_size\n",
    "        self.room_max_size = room_max_size\n",
    "        self.map_width = map_width\n",
    "        self.map_height = map_height\n",
    "        self.room_intersected = 0\n",
    "        self.rooms = []\n",
    "    \n",
    "    def _gen_room(self):\n",
    "        \"\"\"used in _make_blueprint() method\"\"\"\n",
    "        \n",
    "        while True:\n",
    "            # randomized room location, size and it's type\n",
    "            w = random.randint(self.room_min_size, self.room_max_size)\n",
    "            h = random.randint(self.room_min_size, self.room_max_size)\n",
    "            x = random.randint(1, self.map_width - w - 1)\n",
    "            y = random.randint(1, self.map_height - h - 1)\n",
    "            room_type = random.random()\n",
    "            \n",
    "            # room type probability\n",
    "            if room_type < 0.6:\n",
    "                room = Irregular(x, y, min(w, 9) , min(h, 7), self.map_width, self.map_height,  is_rect=True)\n",
    "            elif room_type < 0.95:\n",
    "                room = Irregular(x, y, min(w, 6) , min(h, 6), self.map_width, self.map_height,  is_rect=False)\n",
    "            else:\n",
    "                room = Ellipse(x, y, w, h)\n",
    "    \n",
    "            for r in self.rooms:\n",
    "                if room.intersect(r):\n",
    "                    break\n",
    "            else:\n",
    "                self.rooms.append(room) \n",
    "                break\n",
    "        \n",
    "        # draw room on blueprint\n",
    "        room.draw(self.blueprint_cropped)\n",
    "\n",
    "    def _gen_corridor(self):\n",
    "        \"\"\"used in _make_blueprint() method\"\"\"\n",
    "        # get room centre coordinates\n",
    "        new_y, new_x  = self.rooms[-1].center()\n",
    "        prev_y, prev_x = self.rooms[-2].center()\n",
    "        tunnel_type = random.random()\n",
    "        \n",
    "        # tunnel type probability\n",
    "        if tunnel_type < 0.425:\n",
    "            draw_horizontal_tunnel(self.blueprint_cropped, prev_x, new_x, prev_y)\n",
    "            create_vertical_tunnel(self.blueprint_cropped, prev_y, new_y, new_x)\n",
    "        elif tunnel_type < 0.85:\n",
    "            create_vertical_tunnel(self.blueprint_cropped, prev_y, new_y, prev_x)\n",
    "            draw_horizontal_tunnel(self.blueprint_cropped, prev_x, new_x, new_y)\n",
    "        else:\n",
    "            draw_diagonal_tunnel(self.blueprint_cropped, prev_x, prev_y, new_x, new_y)\n",
    "\n",
    "    def _make_blueprint(self):\n",
    "        for r in range(self.max_rooms):\n",
    "            self._gen_room()\n",
    "            if len(self.rooms) > 1:\n",
    "                self._gen_corridor()\n",
    "                \n",
    "    def _inspect_blueprint(self):\n",
    "        \"\"\"after using _make_blueprint() method, plot a graph\"\"\"\n",
    "        plt.imshow(\n",
    "            self.blueprint,\n",
    "            cmap=plt.cm.Accent_r,\n",
    "            interpolation='nearest'\n",
    "        )\n",
    "        plt.xticks([]),plt.yticks([])\n",
    "        plt.show()"
   ]
  },
  {
   "cell_type": "code",
   "execution_count": 378,
   "metadata": {
    "scrolled": false
   },
   "outputs": [
    {
     "data": {
      "image/png": "[encoded data removed]",
      "text/plain": [
       "<Figure size 432x288 with 1 Axes>"
      ]
     },
     "metadata": {},
     "output_type": "display_data"
    },
    {
     "data": {
      "image/png": "[encoded data removed]",
      "text/plain": [
       "<Figure size 432x288 with 1 Axes>"
      ]
     },
     "metadata": {},
     "output_type": "display_data"
    },
    {
     "data": {
      "image/png": "[encoded data removed]",
      "text/plain": [
       "<Figure size 432x288 with 1 Axes>"
      ]
     },
     "metadata": {},
     "output_type": "display_data"
    },
    {
     "data": {
      "image/png": "[encoded data removed]",
      "text/plain": [
       "<Figure size 432x288 with 1 Axes>"
      ]
     },
     "metadata": {},
     "output_type": "display_data"
    },
    {
     "data": {
      "image/png": "[encoded data removed]",
      "text/plain": [
       "<Figure size 432x288 with 1 Axes>"
      ]
     },
     "metadata": {},
     "output_type": "display_data"
    },
    {
     "data": {
      "image/png": "[encoded data removed]",
      "text/plain": [
       "<Figure size 432x288 with 1 Axes>"
      ]
     },
     "metadata": {},
     "output_type": "display_data"
    },
    {
     "data": {
      "image/png": "[encoded data removed]",
      "text/plain": [
       "<Figure size 432x288 with 1 Axes>"
      ]
     },
     "metadata": {},
     "output_type": "display_data"
    },
    {
     "data": {
      "image/png": "[encoded data removed]",
      "text/plain": [
       "<Figure size 432x288 with 1 Axes>"
      ]
     },
     "metadata": {},
     "output_type": "display_data"
    },
    {
     "data": {
      "image/png": "[encoded data removed]",
      "text/plain": [
       "<Figure size 432x288 with 1 Axes>"
      ]
     },
     "metadata": {},
     "output_type": "display_data"
    },
    {
     "data": {
      "image/png": "[encoded data removed]",
      "text/plain": [
       "<Figure size 432x288 with 1 Axes>"
      ]
     },
     "metadata": {},
     "output_type": "display_data"
    }
   ],
   "source": [
    "for _ in range(10):\n",
    "    lvl = Level(15, 4, 10, 80, 45)\n",
    "    lvl._make_blueprint()\n",
    "    lvl._inspect_blueprint()"
   ]
  },
  {
   "cell_type": "code",
   "execution_count": 379,
   "metadata": {},
   "outputs": [],
   "source": [
    "class GameMap(tcod.map.Map):\n",
    "    def __init__(self, width, height):\n",
    "        # self.width = width\n",
    "        # self.height = height\n",
    "        # self.transparent = np.zeros((height, width), dtype=np.bool_)\n",
    "        # self.walkable = np.zeros((height, width), dtype=np.bool_)\n",
    "        # self.fov = np.zeros((height, width), dtype=np.bool_)\n",
    "        self.explored = np.zeros((height, width), dtype=np.bool_)\n",
    "        self.ch = np.zeros((height, width), dtype=np.intc)\n",
    "        self.fg = np.zeros((height, width), dtype='(3,)u1')\n",
    "        self.bg = np.zeros((height, width), dtype='(3,)u1')\n",
    "        super().__init__(width, height)"
   ]
  },
  {
   "cell_type": "code",
   "execution_count": 380,
   "metadata": {},
   "outputs": [],
   "source": [
    "def make_map(blueprint):\n",
    "    \n",
    "    \n",
    "    # move room in all direction, use the mask as the wall\n",
    "    # to create the 3d effect, move picture north and south by 2\n",
    "    floor = blueprint[2:-2, 2:-2]\n",
    "    \n",
    "    \n",
    "    nw_roof = floor < blueprint[3:-1, 3:-1]\n",
    "    ne_roof = floor < blueprint[3:-1, 1:-3]\n",
    "    sw_roof = floor < blueprint[1:-3, 3:-1]\n",
    "    se_roof = floor < blueprint[1:-3, 1:-3]\n",
    "    n_roof = floor < blueprint[3:-1, 2:-2]\n",
    "    s_roof = floor < blueprint[1:-3, 2:-2]\n",
    "    w_roof = floor < blueprint[2:-2, 3:-1]\n",
    "    e_roof = floor < blueprint[2:-2, 1:-3]\n",
    "    lnw_roof = floor < blueprint[4:, 3:-1]\n",
    "    lne_roof = floor < blueprint[4:, 1:-3]\n",
    "    lsw_roof = floor < blueprint[:-4, 3:-1]\n",
    "    lse_roof = floor < blueprint[:-4, 1:-3]\n",
    "    ln_roof = floor < blueprint[4:, 2:-2]\n",
    "    ls_roof = floor < blueprint[:-4, 2:-2]\n",
    "    w_roof = floor < blueprint[2:-2, 3:-1]\n",
    "    e_roof = floor < blueprint[2:-2, 1:-3]\n",
    "\n",
    "    roof_wall = (\n",
    "        ln_roof + lnw_roof + lne_roof + \n",
    "        ls_roof + lsw_roof + lse_roof + \n",
    "        n_roof + nw_roof + ne_roof +\n",
    "        s_roof + sw_roof + se_roof + \n",
    "        e_roof + w_roof\n",
    "    )\n",
    "    \n",
    "    \n",
    "    # create wall and roof\n",
    "    char = roof_wall[:-1] << roof_wall[1:]\n",
    "    char = char.astype(np.int16)\n",
    "\n",
    "    # remove wall with no roof\n",
    "    wall_with_no_roof = (char == 1)[1:-1,1:-1] & (char == 0)[0:-2,1:-1]\n",
    "    char[1:-1,1:-1][wall_with_no_roof] = 247 # water\n",
    "    \n",
    "    # change number to tileset\n",
    "    char[(floor[:-1] == 1)] = 249 # floor\n",
    "    char[char == 1] = 176 # wall\n",
    "    char[char == 2] = 219 # roof\n",
    "    \n",
    "    \n",
    "    game_map = GameMap(MAP_WIDTH, MAP_HEIGHT)\n",
    "    game_map.walkable[:] = floor[:-1,1:]\n",
    "    #game_map.transparent[:] = floor[:-1,1:] + floor[1:,1:]\n",
    "    game_map.transparent[:] = blueprint[2:-3, 3:-2] + blueprint[3:-2, 3:-2] + blueprint[1:-4, 3:-2]\n",
    "    \n",
    "    game_map.ch[:] = char[:,1:]\n",
    "    \n",
    "    \n",
    "    game_map.fg[:] = (220, 220, 220) # white\n",
    "    game_map.fg[char[:,1:] == 247] = (0, 120, 255) # water = blue\n",
    "    game_map.bg[:] = (30, 20, 10) # black\n",
    "    return game_map"
   ]
  },
  {
   "cell_type": "code",
   "execution_count": 381,
   "metadata": {
    "scrolled": false
   },
   "outputs": [
    {
     "data": {
      "image/png": "[encoded data removed]",
      "text/plain": [
       "<Figure size 720x720 with 6 Axes>"
      ]
     },
     "metadata": {},
     "output_type": "display_data"
    }
   ],
   "source": [
    "lvl = Level(15, 4, 10, MAP_WIDTH, MAP_HEIGHT)\n",
    "lvl._make_blueprint()\n",
    "game_map = make_map(lvl.blueprint)\n",
    "\n",
    "fig, axs = plt.subplots(3, 2, figsize=(10, 10))\n",
    "axs = axs.ravel()\n",
    "axs[0].imshow(game_map.bg)\n",
    "axs[0].set_title('background color')\n",
    "axs[0].set_xticks([])\n",
    "axs[0].set_yticks([])\n",
    "\n",
    "axs[1].imshow(game_map.fg)\n",
    "axs[1].set_title('foreground color')\n",
    "axs[1].set_xticks([])\n",
    "axs[1].set_yticks([])\n",
    "\n",
    "axs[2].imshow(game_map.ch)\n",
    "axs[2].set_title('character')\n",
    "axs[2].set_xticks([])\n",
    "axs[2].set_yticks([])\n",
    "\n",
    "axs[3].imshow(game_map.walkable)\n",
    "axs[3].set_title('walkable')\n",
    "axs[3].set_xticks([])\n",
    "axs[3].set_yticks([])\n",
    "\n",
    "axs[4].imshow(game_map.transparent)\n",
    "axs[4].set_title('transparent')\n",
    "axs[4].set_xticks([])\n",
    "axs[4].set_yticks([])\n",
    "\n",
    "axs[5].imshow(game_map.fov)\n",
    "axs[5].set_title('fov')\n",
    "axs[5].set_xticks([])\n",
    "axs[5].set_yticks([])\n",
    "\n",
    "plt.tight_layout()\n",
    "plt.show()"
   ]
  }
 ],
 "metadata": {
  "kernelspec": {
   "display_name": "Python 3",
   "language": "python",
   "name": "python3"
  },
  "language_info": {
   "codemirror_mode": {
    "name": "ipython",
    "version": 3
   },
   "file_extension": ".py",
   "mimetype": "text/x-python",
   "name": "python",
   "nbconvert_exporter": "python",
   "pygments_lexer": "ipython3",
   "version": "3.6.5"
  }
 },
 "nbformat": 4,
 "nbformat_minor": 2
}
