{
 "cells": [
  {
   "cell_type": "code",
   "execution_count": 84,
   "metadata": {},
   "outputs": [],
   "source": [
    "import esper\n",
    "import itertools"
   ]
  },
  {
   "cell_type": "markdown",
   "metadata": {},
   "source": [
    "*director* manages the *scene* state, the *world* manages the *processor* state"
   ]
  },
  {
   "cell_type": "markdown",
   "metadata": {},
   "source": [
    "class have instances of:\n",
    "\n",
    "`Director -> Scene -> World -> Processor`\n",
    "\n",
    "class contain references to:\n",
    "\n",
    "`Processor -> World -> Scene -> Director`\n",
    "\n",
    "can change game state from processor:\n",
    "\n",
    "`self.world.change_processors('life')`\n",
    "\n",
    "can change scene state from processor:\n",
    "\n",
    "`self.world.scene.director.change_scene('scene')`"
   ]
  },
  {
   "cell_type": "code",
   "execution_count": 85,
   "metadata": {},
   "outputs": [],
   "source": [
    "class Director:\n",
    "    def __init__(self):\n",
    "        self.scenes = {\n",
    "            'scene': Scene(),\n",
    "            'menu': None\n",
    "        }\n",
    "        self.current_scene = self.scenes['scene']\n",
    "        Scene.director = self\n",
    "    \n",
    "    def change_scene(self, state):\n",
    "        self.current_scene = self.scenes[state]\n",
    "    \n",
    "    def update(self):\n",
    "        self.current_scene.update()\n"
   ]
  },
  {
   "cell_type": "code",
   "execution_count": 86,
   "metadata": {},
   "outputs": [],
   "source": [
    "class Scene:\n",
    "    director = None\n",
    "\n",
    "    def __init__(self):\n",
    "        self.world = World()\n",
    "        World.scene = self\n",
    "    \n",
    "    def update(self):\n",
    "        self.world.process()\n"
   ]
  },
  {
   "cell_type": "code",
   "execution_count": 87,
   "metadata": {},
   "outputs": [],
   "source": [
    "# jerry rig a 'state machine' into the esper world.\n",
    "# self._processors is the current processors used in the game state\n",
    "\n",
    "\n",
    "class World(esper.World):\n",
    "    scene = None\n",
    "\n",
    "    def __init__(self):\n",
    "        super().__init__()\n",
    "        self._define_processors()\n",
    "        self._define_world_reference()\n",
    "        self._processors = self.processors['sleep']\n",
    "    \n",
    "    def _define_processors(self):\n",
    "        sleep = Sleep()\n",
    "        wake_up = WakeUp()\n",
    "        hello = Hello()\n",
    "        shake_hand = ShakeHand()\n",
    "        goodbye = GoodBye()\n",
    "\n",
    "        self.processors = {\n",
    "            'sleep': [\n",
    "                sleep,\n",
    "                sleep,\n",
    "                sleep,\n",
    "            ],\n",
    "            'wake_up': [\n",
    "                wake_up,\n",
    "            ],\n",
    "            'life': [\n",
    "                hello,\n",
    "                shake_hand,\n",
    "                goodbye]\n",
    "        }\n",
    "    \n",
    "    def _define_world_reference(self):\n",
    "        nested_proc = [p for p in self.processors.values()]\n",
    "        unique_proc = set(itertools.chain.from_iterable(nested_proc))\n",
    "        for processor_instance in unique_proc:\n",
    "            processor_instance.world = self\n",
    "        \n",
    "    def change_processors(self, state):\n",
    "        self._processors = self.processors[state]\n"
   ]
  },
  {
   "cell_type": "code",
   "execution_count": 88,
   "metadata": {},
   "outputs": [],
   "source": [
    "class Sleep(esper.Processor):\n",
    "    \n",
    "    def __init__(self):\n",
    "        super().__init__()\n",
    "        \n",
    "    def process(self, *args):\n",
    "        print('sleep')\n",
    "        self.world.change_processors('wake_up')\n",
    "\n",
    "\n",
    "class WakeUp(esper.Processor):\n",
    "    \n",
    "    def __init__(self):\n",
    "        super().__init__()\n",
    "        \n",
    "    def process(self, *args):\n",
    "        print('wake_up')\n",
    "        self.world.change_processors('life')\n",
    "\n",
    "\n",
    "class Hello(esper.Processor):\n",
    "    \n",
    "    def __init__(self):\n",
    "        super().__init__()\n",
    "        \n",
    "    def process(self, *args):\n",
    "        print('hello')\n",
    "        \n",
    "\n",
    "class ShakeHand(esper.Processor):\n",
    "    \n",
    "    def __init__(self):\n",
    "        super().__init__()\n",
    "        \n",
    "    def process(self, *args):\n",
    "        print('shake_hand')\n",
    "\n",
    "        \n",
    "class GoodBye(esper.Processor):\n",
    "    \n",
    "    def __init__(self):\n",
    "        super().__init__()\n",
    "        \n",
    "    def process(self, *args):\n",
    "        print('goodbye')\n",
    "        self.world.change_processors('sleep')\n"
   ]
  },
  {
   "cell_type": "code",
   "execution_count": 89,
   "metadata": {},
   "outputs": [
    {
     "name": "stdout",
     "output_type": "stream",
     "text": [
      "sleep\n",
      "sleep\n",
      "sleep\n",
      "wake_up\n",
      "hello\n",
      "shake_hand\n",
      "goodbye\n",
      "sleep\n",
      "sleep\n",
      "sleep\n"
     ]
    }
   ],
   "source": [
    "s = SceneManager()\n",
    "s.update()\n",
    "s.update()\n",
    "s.update()\n",
    "s.update()\n"
   ]
  }
 ],
 "metadata": {
  "kernelspec": {
   "display_name": "Python [default]",
   "language": "python",
   "name": "python3"
  },
  "language_info": {
   "codemirror_mode": {
    "name": "ipython",
    "version": 3
   },
   "file_extension": ".py",
   "mimetype": "text/x-python",
   "name": "python",
   "nbconvert_exporter": "python",
   "pygments_lexer": "ipython3",
   "version": "3.6.5"
  }
 },
 "nbformat": 4,
 "nbformat_minor": 2
}
