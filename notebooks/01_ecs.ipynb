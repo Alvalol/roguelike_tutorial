{
 "cells": [
  {
   "cell_type": "markdown",
   "metadata": {},
   "source": [
    "### Entity Component System"
   ]
  },
  {
   "cell_type": "code",
   "execution_count": 1,
   "metadata": {},
   "outputs": [],
   "source": [
    "from dataclasses import dataclass\n",
    "import dataclasses\n",
    "import esper\n",
    "import time\n",
    "import sys"
   ]
  },
  {
   "cell_type": "markdown",
   "metadata": {},
   "source": [
    "### Component"
   ]
  },
  {
   "cell_type": "markdown",
   "metadata": {},
   "source": [
    "Code is from esper headless example.\n",
    "\n",
    "`__slots__` are used to reduce the object size and save memory."
   ]
  },
  {
   "cell_type": "code",
   "execution_count": 2,
   "metadata": {},
   "outputs": [],
   "source": [
    "class Velocity:\n",
    "    __slots__ = ['x', 'y', 'foo', 'bar']\n",
    "    def __init__(self, x=0, y=0, foo=0, bar=0):\n",
    "        self.x = x\n",
    "        self.y = y\n",
    "        self.foo = 0\n",
    "        self.bar = 0\n",
    "\n",
    "        \n",
    "class Position:\n",
    "    __slots__ = ['x', 'y']\n",
    "    def __init__(self, x=0, y=0):\n",
    "        self.x = x\n",
    "        self.y = y"
   ]
  },
  {
   "cell_type": "markdown",
   "metadata": {},
   "source": [
    "have to define `__repr__` manually:"
   ]
  },
  {
   "cell_type": "code",
   "execution_count": 7,
   "metadata": {},
   "outputs": [
    {
     "data": {
      "text/plain": [
       "<__main__.Velocity_ at 0x48d41b0>"
      ]
     },
     "execution_count": 7,
     "metadata": {},
     "output_type": "execute_result"
    }
   ],
   "source": [
    "Velocity()"
   ]
  },
  {
   "cell_type": "markdown",
   "metadata": {},
   "source": [
    "instead of writing __init__() and their attributes all the time, we can use a dataclass! Its a new feature in python 3.7. dataclass is backported to 3.6 if you want to use it in advance. `pip install dataclass`."
   ]
  },
  {
   "cell_type": "code",
   "execution_count": 12,
   "metadata": {},
   "outputs": [],
   "source": [
    "def add_slots(cls):\n",
    "    if '__slots__' in cls.__dict__:\n",
    "        raise TypeError(f'{cls.__name__} already specifies __slots__')\n",
    "\n",
    "    cls_dict = dict(cls.__dict__)\n",
    "    field_names = tuple(f.name for f in dataclasses.fields(cls))\n",
    "    cls_dict['__slots__'] = field_names\n",
    "    for field_name in field_names:\n",
    "        cls_dict.pop(field_name, None)\n",
    "    cls_dict.pop('__dict__', None)\n",
    "    qualname = getattr(cls, '__qualname__', None)\n",
    "    cls = type(cls)(cls.__name__, cls.__bases__, cls_dict)\n",
    "    if qualname is not None:\n",
    "        cls.__qualname__ = qualname\n",
    "    return cls"
   ]
  },
  {
   "cell_type": "code",
   "execution_count": 11,
   "metadata": {},
   "outputs": [],
   "source": [
    "@add_slots\n",
    "@dataclass\n",
    "class Velocity:\n",
    "    x : float = 0.0\n",
    "    y : float = 0.0\n",
    "    foo: float = 0.0\n",
    "    bar: float = 0.0\n",
    "\n",
    "\n",
    "@add_slots        \n",
    "@dataclass\n",
    "class Position:\n",
    "    x : float = 0.0\n",
    "    y : float = 0.0"
   ]
  },
  {
   "cell_type": "markdown",
   "metadata": {},
   "source": [
    "`__repr__` is defined automatically."
   ]
  },
  {
   "cell_type": "code",
   "execution_count": 9,
   "metadata": {},
   "outputs": [
    {
     "data": {
      "text/plain": [
       "Velocity(x=0.0, y=0.0, foo=0.0, bar=0.0)"
      ]
     },
     "execution_count": 9,
     "metadata": {},
     "output_type": "execute_result"
    }
   ],
   "source": [
    "Velocity()"
   ]
  },
  {
   "cell_type": "markdown",
   "metadata": {},
   "source": [
    "Currently slots are not offically supported, but we can add them by use this funky decorator!\n",
    "(https://github.com/ericvsmith/dataclasses/blob/master/dataclass_tools.py). In practice, I will add the slots at the end of the project. \"Premature Optimization Is the Root of All Evil\"."
   ]
  },
  {
   "cell_type": "markdown",
   "metadata": {},
   "source": [
    "### Processor"
   ]
  },
  {
   "cell_type": "code",
   "execution_count": null,
   "metadata": {},
   "outputs": [],
   "source": [
    "class MovementProcessor(esper.Processor):\n",
    "    def __init__(self):\n",
    "        super().__init__()\n",
    "\n",
    "    def process(self):\n",
    "        for ent, (vel, pos) in self.world.get_components(Velocity, Position):\n",
    "            pos.x += vel.x\n",
    "            pos.y += vel.y\n",
    "            print(\"Current Position: {}\".format((int(pos.x), int(pos.y))))"
   ]
  },
  {
   "cell_type": "code",
   "execution_count": 16,
   "metadata": {},
   "outputs": [
    {
     "data": {
      "text/plain": [
       "<generator object World.get_components at 0x048D0300>"
      ]
     },
     "execution_count": 16,
     "metadata": {},
     "output_type": "execute_result"
    }
   ],
   "source": [
    "world = esper.World()\n",
    "world.get_components(Velocity, Position)"
   ]
  },
  {
   "cell_type": "markdown",
   "metadata": {},
   "source": [
    "### World"
   ]
  },
  {
   "cell_type": "code",
   "execution_count": null,
   "metadata": {},
   "outputs": [],
   "source": [
    "def main():\n",
    "    # Create a World instance to hold everything:\n",
    "    world = esper.World()\n",
    "\n",
    "    # Instantiate a Processor (or more), and add them to the world:\n",
    "    movement_processor = MovementProcessor()\n",
    "    world.add_processor(movement_processor)\n",
    "\n",
    "    # Create entities, and assign Component instances to them:\n",
    "    player = world.create_entity()\n",
    "    world.add_component(player, Velocity(x=0.9, y=1.2))\n",
    "    world.add_component(player, Position(x=5, y=5))\n",
    "\n",
    "    # A dummy main loop:\n",
    "    try:\n",
    "        while True:\n",
    "            # Call world.process() to run all Processors.\n",
    "            world.process()\n",
    "            time.sleep(1)\n",
    "\n",
    "    except KeyboardInterrupt:\n",
    "        return"
   ]
  },
  {
   "cell_type": "code",
   "execution_count": null,
   "metadata": {},
   "outputs": [],
   "source": [
    "main()"
   ]
  }
 ],
 "metadata": {
  "kernelspec": {
   "display_name": "Python [default]",
   "language": "python",
   "name": "python3"
  },
  "language_info": {
   "codemirror_mode": {
    "name": "ipython",
    "version": 3
   },
   "file_extension": ".py",
   "mimetype": "text/x-python",
   "name": "python",
   "nbconvert_exporter": "python",
   "pygments_lexer": "ipython3",
   "version": "3.6.5"
  }
 },
 "nbformat": 4,
 "nbformat_minor": 2
}
