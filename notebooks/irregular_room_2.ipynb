{
 "cells": [
  {
   "cell_type": "code",
   "execution_count": 28,
   "metadata": {},
   "outputs": [],
   "source": [
    "import numpy as np\n",
    "import skimage.draw\n",
    "import matplotlib.pyplot as plt\n",
    "import tcod"
   ]
  },
  {
   "cell_type": "code",
   "execution_count": 29,
   "metadata": {},
   "outputs": [],
   "source": [
    "game_map =  tcod.map.Map(width=80, height=45)"
   ]
  },
  {
   "cell_type": "code",
   "execution_count": 123,
   "metadata": {},
   "outputs": [],
   "source": [
    "def irregular_shape(w=10, h=10):\n",
    "    angle = np.linspace(0, 2 * np.pi, 100)\n",
    "\n",
    "    # circle coordinates\n",
    "    r_circle = np.sqrt((w/2)**2 + (h/2)**2)\n",
    "    x = np.round(np.cos(angle)*r_circle, 2)\n",
    "    y = np.round(np.sin(angle)*r_circle, 2)\n",
    "\n",
    "    # rectangle coordinates\n",
    "    x[x > w/2] = w/2\n",
    "    x[x < -w/2] = -w/2\n",
    "    y[y > h/2] = h/2\n",
    "    y[y < -h/2] = -h/2\n",
    "    \n",
    "    # noise for x coordinate\n",
    "    noise1 = tcod.noise.Noise(\n",
    "        dimensions=1,\n",
    "        algorithm=tcod.NOISE_SIMPLEX,\n",
    "        implementation=tcod.noise.FBM,\n",
    "        hurst=0.5,\n",
    "        lacunarity=2,\n",
    "        octaves=4,\n",
    "    )\n",
    "    \n",
    "    # noise for y coordinate\n",
    "    noise2 = tcod.noise.Noise(\n",
    "        dimensions=1,\n",
    "        algorithm=tcod.NOISE_SIMPLEX,\n",
    "        implementation=tcod.noise.FBM,\n",
    "        hurst=0.5,\n",
    "        lacunarity=2,\n",
    "        octaves=4,\n",
    "    )\n",
    "\n",
    "    # Return the sampled noise from the grid of points.\n",
    "    xn = noise1.sample_ogrid([angle])\n",
    "    yn = noise2.sample_ogrid([angle])\n",
    "\n",
    "    # start and end return to zero\n",
    "    xn[:20] = xn[:20] * np.arange(0, 1, 0.05)\n",
    "    xn[-20:] = xn[-20:] * np.arange(1, 0, -0.05)\n",
    "    yn[:20] = yn[:20] * np.arange(0, 1, 0.05)\n",
    "    yn[-20:] = yn[-20:] * np.arange(1, 0, -0.05)\n",
    "\n",
    "    # add noise \n",
    "    x = x + x * xn\n",
    "    y = y + y * yn\n",
    "\n",
    "    # move origin point\n",
    "    x = x - min(x) + 3\n",
    "    y = y - min(y) + 4\n",
    "    \n",
    "    # update width, height\n",
    "    w = int(max(x) + 5)\n",
    "    h = int(max(y) + 7)\n",
    "    \n",
    "    # draw to numpy array\n",
    "    img = np.zeros((h, w), dtype=np.int)\n",
    "    rr, cc = skimage.draw.polygon(y, x)\n",
    "    img[rr, cc] = True\n",
    "    return img\n",
    "\n",
    "    \n",
    "def apply_tileset(img):\n",
    "    # move picture in all direction, use the mask as the wall\n",
    "    floor = img[2:-2, 2:-2]\n",
    "    nw_roof = floor < img[3:-1, 3:-1]\n",
    "    ne_roof = floor < img[3:-1, 1:-3]\n",
    "    sw_roof = floor < img[1:-3, 3:-1]\n",
    "    se_roof = floor < img[1:-3, 1:-3]\n",
    "    n_roof = floor < img[3:-1, 2:-2]\n",
    "    s_roof = floor < img[1:-3, 2:-2]\n",
    "    w_roof = floor < img[2:-2, 3:-1]\n",
    "    e_roof = floor < img[2:-2, 1:-3]\n",
    "\n",
    "    roof_wall1 = (\n",
    "        nw_roof + ne_roof + sw_roof + se_roof + \n",
    "        n_roof + e_roof + s_roof + w_roof\n",
    "    )\n",
    "    \n",
    "    # to create the 3d effect, move picture north and south by 2\n",
    "    floor = img[2:-2, 2:-2]\n",
    "    lnw_roof = floor < img[4:, 3:-1]\n",
    "    lne_roof = floor < img[4:, 1:-3]\n",
    "    lsw_roof = floor < img[:-4, 3:-1]\n",
    "    lse_roof = floor < img[:-4, 1:-3]\n",
    "    ln_roof = floor < img[4:, 2:-2]\n",
    "    ls_roof = floor < img[:-4, 2:-2]\n",
    "    w_roof = floor < img[2:-2, 3:-1]\n",
    "    e_roof = floor < img[2:-2, 1:-3]\n",
    "\n",
    "    roof_wall2 = (\n",
    "        lnw_roof + lne_roof + lsw_roof + lse_roof + \n",
    "        ln_roof + ls_roof + roof_wall1\n",
    "    )\n",
    "    \n",
    "    # create wall and roof\n",
    "    final = roof_wall2[:-1] << roof_wall2[1:]\n",
    "    final = final.astype(np.int16)\n",
    "    # remove wall with no roof\n",
    "    wall_with_no_roof = (final == 1)[1:-1,1:-1] & (final == 0)[0:-2,1:-1]\n",
    "    final[1:-1,1:-1][wall_with_no_roof] = 0\n",
    "    \n",
    "    # final[floor] = 3\n",
    "    final[floor[:-1] == 1] = 249 # floor\n",
    "    final[final == 1] = 176 # wall\n",
    "    final[final == 2] = 219 # roof\n",
    "    \n",
    "    return final\n"
   ]
  },
  {
   "cell_type": "code",
   "execution_count": 100,
   "metadata": {},
   "outputs": [],
   "source": [
    "def show(img):\n",
    "    plt.figure(figsize=(2,2))\n",
    "    plt.imshow(img,cmap='gray')\n",
    "    plt.xticks([])\n",
    "    plt.yticks([])\n",
    "    plt.show()"
   ]
  },
  {
   "cell_type": "code",
   "execution_count": 125,
   "metadata": {},
   "outputs": [
    {
     "data": {
      "image/png": "[encoded data removed]",
      "text/plain": [
       "<Figure size 144x144 with 1 Axes>"
      ]
     },
     "metadata": {},
     "output_type": "display_data"
    }
   ],
   "source": [
    "img = irregular_shape()\n",
    "img = apply_tileset(img)\n",
    "show(img)"
   ]
  },
  {
   "cell_type": "code",
   "execution_count": 126,
   "metadata": {},
   "outputs": [
    {
     "data": {
      "text/plain": [
       "(20, 15)"
      ]
     },
     "execution_count": 126,
     "metadata": {},
     "output_type": "execute_result"
    }
   ],
   "source": [
    "img.shape"
   ]
  },
  {
   "cell_type": "code",
   "execution_count": 129,
   "metadata": {},
   "outputs": [
    {
     "data": {
      "text/plain": [
       "(20, 15)"
      ]
     },
     "execution_count": 129,
     "metadata": {},
     "output_type": "execute_result"
    }
   ],
   "source": [
    "game_map.walkable[:20, :15].shape"
   ]
  },
  {
   "cell_type": "code",
   "execution_count": null,
   "metadata": {},
   "outputs": [],
   "source": []
  },
  {
   "cell_type": "code",
   "execution_count": null,
   "metadata": {},
   "outputs": [],
   "source": []
  },
  {
   "cell_type": "code",
   "execution_count": null,
   "metadata": {},
   "outputs": [],
   "source": []
  }
 ],
 "metadata": {
  "kernelspec": {
   "display_name": "Python 3",
   "language": "python",
   "name": "python3"
  },
  "language_info": {
   "codemirror_mode": {
    "name": "ipython",
    "version": 3
   },
   "file_extension": ".py",
   "mimetype": "text/x-python",
   "name": "python",
   "nbconvert_exporter": "python",
   "pygments_lexer": "ipython3",
   "version": "3.6.5"
  }
 },
 "nbformat": 4,
 "nbformat_minor": 2
}
