{
 "cells": [
  {
   "cell_type": "code",
   "execution_count": 1,
   "metadata": {},
   "outputs": [
    {
     "name": "stdout",
     "output_type": "stream",
     "text": [
      "room is ready.\n",
      "Lenard has arrived!\n"
     ]
    },
    {
     "data": {
      "text/plain": [
       "<__main__.Event at 0x449a090>"
      ]
     },
     "execution_count": 1,
     "metadata": {},
     "output_type": "execute_result"
    }
   ],
   "source": [
    "class Observer:\n",
    "    _observers = []\n",
    "    \n",
    "    def __init__(self):\n",
    "        self._observers.append(self)\n",
    "        self._observables = {}\n",
    "        \n",
    "    def observe(self, event_name, callback):\n",
    "        self._observables[event_name] = callback\n",
    "    \n",
    "    \n",
    "class Event():\n",
    "    def __init__(self, name, data, autofire = True):\n",
    "        self.name = name\n",
    "        self.data = data\n",
    "        if autofire:\n",
    "            self.fire()\n",
    "            \n",
    "    def fire(self):\n",
    "        for observer in Observer._observers:\n",
    "            if self.name in observer._observables:\n",
    "                observer._observables[self.name](self.data)\n",
    "                \n",
    "                \n",
    "class Room(Observer):\n",
    "    \n",
    "    def __init__(self):\n",
    "        print(\"room is ready.\")\n",
    "        Observer.__init__(self)\n",
    "        \n",
    "    def someone_arrived(self, who):\n",
    "        print(who + \" has arrived!\")\n",
    "\n",
    "room = Room()\n",
    "room.observe('someone arrived',  room.someone_arrived)\n",
    "\n",
    "Event('someone arrived', 'Lenard')"
   ]
  },
  {
   "cell_type": "code",
   "execution_count": 2,
   "metadata": {},
   "outputs": [],
   "source": [
    "class Event:\n",
    "    def __init__(self):\n",
    "        self.handlers = set()\n",
    "    \n",
    "    def handle(self, handler):\n",
    "        self.handlers.add(handler)\n",
    "        return self\n",
    "    \n",
    "    def unhandle(self, handler):\n",
    "        self.handlers.remove(handler)\n",
    "        return self\n",
    "    \n",
    "    def fire(self, *args, **kwargs):\n",
    "        for handler in self.handlers:\n",
    "            handler(*args, **kwargs)\n",
    "            \n",
    "    __iadd__ = handle\n",
    "    __isub__ = unhandle\n",
    "    __call__ = fire\n",
    "    \n",
    "    \n",
    "class MockFileWatcher:\n",
    "    def __init__(self):\n",
    "        self.file_changed_event = Event()\n",
    "        \n",
    "    def watch_files(self):\n",
    "        source_path = 'foo'\n",
    "        self.file_changed_event(source_path)\n",
    "        \n",
    "def log_file_change(source_path):\n",
    "    print(\"%r changed.\" % (source_path,))\n",
    "\n",
    "def log_file_change2(source_path):\n",
    "    print(\"%r changed!\" % (source_path,))\n",
    "\n",
    "\n",
    "    \n",
    "\n",
    "watcher = MockFileWatcher()\n",
    "      "
   ]
  },
  {
   "cell_type": "code",
   "execution_count": 3,
   "metadata": {},
   "outputs": [],
   "source": [
    "watcher.file_changed_event += log_file_change2\n",
    "watcher.file_changed_event += log_file_change\n",
    "watcher.file_changed_event -= log_file_change2"
   ]
  },
  {
   "cell_type": "code",
   "execution_count": 4,
   "metadata": {},
   "outputs": [
    {
     "data": {
      "text/plain": [
       "{<function __main__.log_file_change(source_path)>}"
      ]
     },
     "execution_count": 4,
     "metadata": {},
     "output_type": "execute_result"
    }
   ],
   "source": [
    "watcher.file_changed_event.handlers"
   ]
  },
  {
   "cell_type": "code",
   "execution_count": 5,
   "metadata": {},
   "outputs": [
    {
     "name": "stdout",
     "output_type": "stream",
     "text": [
      "'foo' changed.\n"
     ]
    }
   ],
   "source": [
    "watcher.watch_files()"
   ]
  },
  {
   "cell_type": "code",
   "execution_count": 6,
   "metadata": {},
   "outputs": [
    {
     "name": "stdout",
     "output_type": "stream",
     "text": [
      "'dfsd' changed.\n"
     ]
    }
   ],
   "source": [
    "watcher.file_changed_event('dfsd')"
   ]
  },
  {
   "cell_type": "code",
   "execution_count": 8,
   "metadata": {},
   "outputs": [
    {
     "name": "stdout",
     "output_type": "stream",
     "text": [
      "hello\n"
     ]
    }
   ],
   "source": [
    "class Signal:\n",
    "    def __init__(self):\n",
    "        self._handlers = [] # callback\n",
    "        \n",
    "    def connect(self, handler): # subscribe\n",
    "        self._handlers.append(handler)\n",
    "\n",
    "    def fire(self, *args):\n",
    "        for handler in self._handlers:\n",
    "            handler(*args)\n",
    "    \n",
    "class EventHandler:\n",
    "    def __init__(self):\n",
    "        self.changed = Signal()\n",
    "        \n",
    "    def say_hi(self):\n",
    "        print('hello')\n",
    "        self.changed.fire(self)\n",
    "        \n",
    "e = EventHandler()\n",
    "\n",
    "e.say_hi()"
   ]
  }
 ],
 "metadata": {
  "kernelspec": {
   "display_name": "Python [default]",
   "language": "python",
   "name": "python3"
  },
  "language_info": {
   "codemirror_mode": {
    "name": "ipython",
    "version": 3
   },
   "file_extension": ".py",
   "mimetype": "text/x-python",
   "name": "python",
   "nbconvert_exporter": "python",
   "pygments_lexer": "ipython3",
   "version": "3.6.5"
  }
 },
 "nbformat": 4,
 "nbformat_minor": 2
}
